{
 "cells": [
  {
   "cell_type": "code",
   "execution_count": 64,
   "metadata": {},
   "outputs": [],
   "source": [
    "import os"
   ]
  },
  {
   "cell_type": "code",
   "execution_count": 65,
   "metadata": {},
   "outputs": [],
   "source": [
    "os.chdir('/Volumes/EmadArtIntel/ADNI/DownloadedData/baseline3T/')"
   ]
  },
  {
   "cell_type": "code",
   "execution_count": 66,
   "metadata": {},
   "outputs": [
    {
     "data": {
      "text/plain": [
       "'/Volumes/EmadArtIntel/ADNI/DownloadedData/baseline3T'"
      ]
     },
     "execution_count": 66,
     "metadata": {},
     "output_type": "execute_result"
    }
   ],
   "source": [
    "os.getcwd()"
   ]
  },
  {
   "cell_type": "code",
   "execution_count": 67,
   "metadata": {},
   "outputs": [],
   "source": [
    "rootDir = '.'\n",
    "L = []\n",
    "\n",
    "dup_phrase = '_Scaled_2'   #Duplicate phrase: folders that have this in their name are duplicate and should not be inlucded in the list\n",
    "\n",
    "for dirName, subdirList, fileList in os.walk(rootDir):\n",
    "    for fileName in fileList:\n",
    "        if dirName.find(dup_phrase) == -1:\n",
    "            L.append(str(dirName)+'/'+str(fileName))\n",
    "L.sort()\n",
    "# print(L)"
   ]
  },
  {
   "cell_type": "code",
   "execution_count": 68,
   "metadata": {},
   "outputs": [],
   "source": [
    "def modify_list(L, n=0):\n",
    "    '''\n",
    "    Deletes the n first characters from each entry of the list L.\n",
    "    \n",
    "    Inputs:\n",
    "        L: list of strings; each entry contains folder/file for a case\n",
    "        n: number of first characters to be deleted from each entry\n",
    "        \n",
    "    Output:\n",
    "        L: modified list of strings; each entry contains folder/file for a case    \n",
    "    '''\n",
    "    phrase = 'caseList'\n",
    "    \n",
    "    for i in range(len(L)):\n",
    "#         print(L[i])\n",
    "        L[i] = L[i][n:]\n",
    "        if L[i].find(phrase) == -1:\n",
    "            del L[i]\n",
    "#         print('case_modified: \\n', L[i])\n",
    "        \n",
    "    return L"
   ]
  },
  {
   "cell_type": "code",
   "execution_count": 69,
   "metadata": {},
   "outputs": [],
   "source": [
    "# print(len(rootDir)+1)\n",
    "L = modify_list(L, len(rootDir)+1)"
   ]
  },
  {
   "cell_type": "code",
   "execution_count": 70,
   "metadata": {},
   "outputs": [],
   "source": [
    "def list_to_file(L, d = '.'):\n",
    "    '''\n",
    "    Turns list L of strings into a text file, each row containing a list entry.\n",
    "    Inputs: \n",
    "        L: list of strings; each entry contains folder/file for a case\n",
    "        d: directory in which the output file is written. Defualt: current directory.\n",
    "    Output:\n",
    "        caselist.txt: text file; each line contains folder/file for a case\n",
    "    '''\n",
    "    \n",
    "    \n",
    "    file = open('caseList.txt', 'w')\n",
    "    for case in L:\n",
    "        file.write(str(case)+'\\n')\n",
    "    file.close()"
   ]
  },
  {
   "cell_type": "code",
   "execution_count": 71,
   "metadata": {},
   "outputs": [],
   "source": [
    "list_to_file(L)"
   ]
  },
  {
   "cell_type": "code",
   "execution_count": 76,
   "metadata": {},
   "outputs": [],
   "source": [
    "os.chdir('/Volumes/EmadArtIntel/ADNI/RawMRIs/')\n",
    "\n",
    "n = len(L)\n",
    "\n",
    "\n",
    "def make_caselist_correspondences(L, d = '.'):\n",
    "    '''\n",
    "    Turns list L of strings into a text file, each row containing a list entry.\n",
    "    Inputs: \n",
    "        L: list of strings; each entry contains folder/file for a case\n",
    "        d: directory in which the output file is written. Defualt: current directory.\n",
    "    Output:\n",
    "        case_list.txt: text file; each line contains folder/file for a case\n",
    "    '''\n",
    "    \n",
    "    d_prev = os.getcwd()\n",
    "    os.chdir(d)\n",
    "    \n",
    "    file = open('caseListCorrespondeces.txt', 'w')\n",
    "    \n",
    "    i = 1\n",
    "    for case in L:\n",
    "        file.write(str(i)+'\\t')\n",
    "        file.write(str(case)+'\\n')\n",
    "        i += 1\n",
    "        \n",
    "    file.close()\n",
    "    \n",
    "    os.chdir(d_prev)"
   ]
  },
  {
   "cell_type": "code",
   "execution_count": 77,
   "metadata": {},
   "outputs": [],
   "source": [
    "make_caselist_correspondences(L, '/Volumes/EmadArtIntel/ADNI/')"
   ]
  },
  {
   "cell_type": "code",
   "execution_count": 81,
   "metadata": {},
   "outputs": [
    {
     "ename": "IndexError",
     "evalue": "list index out of range",
     "output_type": "error",
     "traceback": [
      "\u001b[0;31m---------------------------------------------------------------------------\u001b[0m",
      "\u001b[0;31mIndexError\u001b[0m                                Traceback (most recent call last)",
      "\u001b[0;32m<ipython-input-81-0cde6cdf5dd9>\u001b[0m in \u001b[0;36m<module>\u001b[0;34m\u001b[0m\n\u001b[1;32m     14\u001b[0m \u001b[0;34m\u001b[0m\u001b[0m\n\u001b[1;32m     15\u001b[0m \u001b[0;32mfor\u001b[0m \u001b[0mi\u001b[0m \u001b[0;32min\u001b[0m \u001b[0mrange\u001b[0m\u001b[0;34m(\u001b[0m\u001b[0;36m1\u001b[0m\u001b[0;34m,\u001b[0m \u001b[0mn\u001b[0m\u001b[0;34m+\u001b[0m\u001b[0;36m1\u001b[0m\u001b[0;34m)\u001b[0m\u001b[0;34m:\u001b[0m\u001b[0;34m\u001b[0m\u001b[0;34m\u001b[0m\u001b[0m\n\u001b[0;32m---> 16\u001b[0;31m     \u001b[0msrc\u001b[0m \u001b[0;34m=\u001b[0m \u001b[0msrcRoot\u001b[0m\u001b[0;34m+\u001b[0m\u001b[0;34m'/'\u001b[0m\u001b[0;34m+\u001b[0m\u001b[0mL\u001b[0m\u001b[0;34m[\u001b[0m\u001b[0mi\u001b[0m\u001b[0;34m]\u001b[0m\u001b[0;34m\u001b[0m\u001b[0;34m\u001b[0m\u001b[0m\n\u001b[0m\u001b[1;32m     17\u001b[0m     \u001b[0mdstRoot\u001b[0m \u001b[0;34m=\u001b[0m \u001b[0;34m'./'\u001b[0m\u001b[0;34m+\u001b[0m\u001b[0mstr\u001b[0m\u001b[0;34m(\u001b[0m\u001b[0mi\u001b[0m\u001b[0;34m)\u001b[0m\u001b[0;34m+\u001b[0m\u001b[0;34m'/'\u001b[0m\u001b[0;34m\u001b[0m\u001b[0;34m\u001b[0m\u001b[0m\n\u001b[1;32m     18\u001b[0m     \u001b[0mdstFile\u001b[0m \u001b[0;34m=\u001b[0m \u001b[0mstr\u001b[0m\u001b[0;34m(\u001b[0m\u001b[0mi\u001b[0m\u001b[0;34m)\u001b[0m\u001b[0;34m+\u001b[0m\u001b[0;34m'.nii'\u001b[0m\u001b[0;34m\u001b[0m\u001b[0;34m\u001b[0m\u001b[0m\n",
      "\u001b[0;31mIndexError\u001b[0m: list index out of range"
     ]
    }
   ],
   "source": [
    "'''\n",
    "Making numbered directories for cases, then copying/renaming files from \n",
    "DownloadedData to RawData.\n",
    "Also making a list of corresponding cases.\n",
    "'''\n",
    "from shutil import copyfile\n",
    "\n",
    "os.chdir('/Volumes/EmadArtIntel/ADNI/RawMRIs/')\n",
    "\n",
    "srcRoot = '/Volumes/EmadArtIntel/ADNI/DownloadedData/baseline3T/'\n",
    "# rootDir = os.getcwd()\n",
    "\n",
    "n = len(L)\n",
    "\n",
    "for i in range(1, n+1):\n",
    "    src = srcRoot+'/'+L[i]\n",
    "    dstRoot = './'+str(i)+'/'\n",
    "    dstFile = str(i)+'.nii'\n",
    "    \n",
    "    os.mkdir(dstRoot)\n",
    "    copyfile(src, dstRoot+dstFile)"
   ]
  },
  {
   "cell_type": "code",
   "execution_count": 54,
   "metadata": {},
   "outputs": [
    {
     "name": "stdout",
     "output_type": "stream",
     "text": [
      "['002_S_0413/MPR____N3__Scaled/2006-05-19_16_17_47.0/S14782\\nADNI_002_S_0413_MR_MPR____N3__Scaled_Br_20070216232854688_S14782_I40657.nii', '002_S_0559/MPR____N3__Scaled/2006-06-27_18_28_33.0/S15922\\nADNI_002_S_0559_MR_MPR____N3__Scaled_Br_20070319121214158_S15922_I45126.nii', '002_S_0729/MPR____N3__Scaled/2006-08-02_07_02_00.0/S17535\\nADNI_002_S_0729_MR_MPR____N3__Scaled_Br_20070217001301848_S17535_I40692.nii', '002_S_0816/MPR____N3__Scaled/2006-09-29_14_09_26.0/S19532\\nADNI_002_S_0816_MR_MPR____N3__Scaled_Br_20070217005105475_S19532_I40726.nii', '002_S_0954/MPR____N3__Scaled/2006-11-08_08_00_48.0/S22322\\nADNI_002_S_0954_MR_MPR____N3__Scaled_Br_20070217012734324_S22322_I40749.nii', '002_S_1018/MPR____N3__Scaled/2006-12-18_14_57_09.0/S24312\\nADNI_002_S_1018_MR_MPR____N3__Scaled_Br_20070217032215330_S24312_I40828.nii', '002_S_1070/MPR____N3__Scaled/2006-12-18_09_11_48.0/S24206\\nADNI_002_S_1070_MR_MPR____N3__Scaled_Br_20070217034203890_S24206_I40840.nii', '002_S_1261/MPR____N3__Scaled/2007-02-27_13_28_07.0/S27226\\nADNI_002_S_1261_MR_MPR____N3__Scaled_Br_20070807144436756_S27226_I65561.nii', '002_S_1268/MPR-R____N3__Scaled/2007-03-07_07_58_51.0/S27680\\nADNI_002_S_1268_MR_MPR-R____N3__Scaled_Br_20070806174712233_S27680_I65268.nii', '002_S_1280/MPR____N3__Scaled/2007-02-27_09_41_57.0/S27230\\nADNI_002_S_1280_MR_MPR____N3__Scaled_Br_20070808154151968_S27230_I65874.nii', '005_S_0324/MPR-R__GradWarp__B1_Correction__N3__Scaled/2006-04-21_10_20_45.0/S13664\\nADNI_005_S_0324_MR_MPR-R__GradWarp__B1_Correction__N3__Scaled_Br_20061212142345901_S13664_I32777.nii', '005_S_0448/MPR-R__GradWarp__B1_Correction__N3__Scaled/2006-05-22_15_18_16.0/S14868\\nADNI_005_S_0448_MR_MPR-R__GradWarp__B1_Correction__N3__Scaled_Br_20061212143206036_S14868_I32785.nii', '005_S_0553/MPR__GradWarp__B1_Correction__N3__Scaled/2006-06-28_12_11_17.0/S15928\\nADNI_005_S_0553_MR_MPR__GradWarp__B1_Correction__N3__Scaled_Br_20061212135745131_S15928_I32755.nii', '005_S_0572/MPR-R__GradWarp__B1_Correction__N3__Scaled/2006-07-31_14_47_09.0/S17494\\nADNI_005_S_0572_MR_MPR-R__GradWarp__B1_Correction__N3__Scaled_Br_20061212145700047_S17494_I32817.nii', '005_S_0602/MPR__GradWarp__B1_Correction__N3__Scaled/2006-07-25_10_05_11.0/S17241\\nADNI_005_S_0602_MR_MPR__GradWarp__B1_Correction__N3__Scaled_Br_20061212140720505_S17241_I32762.nii', '005_S_0814/MPR__GradWarp__B1_Correction__N3__Scaled/2006-09-20_11_11_42.0/S19117\\nADNI_005_S_0814_MR_MPR__GradWarp__B1_Correction__N3__Scaled_Br_20070923123736255_S19117_I74600.nii', '007_S_1206/MPR__GradWarp__B1_Correction__N3__Scaled/2007-01-30_15_20_54.0/S25703\\nADNI_007_S_1206_MR_MPR__GradWarp__B1_Correction__N3__Scaled_Br_20070713113644677_S25703_I59955.nii', '007_S_1222/MPR__GradWarp__B1_Correction__N3__Scaled/2007-02-07_11_10_45.0/S26090\\nADNI_007_S_1222_MR_MPR__GradWarp__B1_Correction__N3__Scaled_Br_20070713115714585_S26090_I59986.nii', '007_S_1304/MPR__GradWarp__B1_Correction__N3__Scaled/2007-04-02_11_03_26.0/S29172\\nADNI_007_S_1304_MR_MPR__GradWarp__B1_Correction__N3__Scaled_Br_20070713112014014_S29172_I59923.nii', '012_S_0689/MPR-R____N3__Scaled/2006-07-19_15_39_21.0/S16978\\nADNI_012_S_0689_MR_MPR-R____N3__Scaled_Br_20070711164229152_S16978_I59174.nii', '012_S_1009/MPR____N3__Scaled/2006-11-03_13_49_34.0/S22179\\nADNI_012_S_1009_MR_MPR____N3__Scaled_Br_20070711170219086_S22179_I59214.nii', '012_S_1212/MPR____N3__Scaled/2007-01-23_14_58_27.0/S25500\\nADNI_012_S_1212_MR_MPR____N3__Scaled_Br_20070804132407464_S25500_I64595.nii', '012_S_1292/MPR____N3__Scaled/2007-03-19_14_32_48.0/S28409\\nADNI_012_S_1292_MR_MPR____N3__Scaled_Br_20070923134730116_S28409_I74691.nii', '012_S_1321/MPR____N3__Scaled/2007-03-12_14_19_11.0/S28037\\nADNI_012_S_1321_MR_MPR____N3__Scaled_Br_20070920164354214_S28037_I73895.nii', '016_S_0769/MPR__GradWarp__B1_Correction__N3__Scaled/2006-08-24_14_39_01.0/S18541\\nADNI_016_S_0769_MR_MPR__GradWarp__B1_Correction__N3__Scaled_Br_20090311145050344_S18541_I138391.nii', '016_S_1117/MPR__GradWarp__B1_Correction__N3__Scaled/2007-01-08_15_16_16.0/S25222\\nADNI_016_S_1117_MR_MPR__GradWarp__B1_Correction__N3__Scaled_Br_20071229174509877_S25222_I86318.nii', '016_S_1121/MPR__GradWarp__B1_Correction__N3__Scaled/2007-01-11_14_42_07.0/S25229\\nADNI_016_S_1121_MR_MPR__GradWarp__B1_Correction__N3__Scaled_Br_20071229175133442_S25229_I86327.nii', '016_S_1138/MPR__GradWarp__B1_Correction__N3__Scaled/2007-04-19_13_56_40.0/S30118\\nADNI_016_S_1138_MR_MPR__GradWarp__B1_Correction__N3__Scaled_Br_20080220100601204_S30118_I90875.nii', '016_S_1149/MPR__GradWarp__B1_Correction__N3__Scaled/2007-03-13_11_22_56.0/S28286\\nADNI_016_S_1149_MR_MPR__GradWarp__B1_Correction__N3__Scaled_Br_20071229175802518_S28286_I86336.nii', '016_S_1326/MPR__GradWarp__B1_Correction__N3__Scaled/2007-04-02_11_56_41.0/S29365\\nADNI_016_S_1326_MR_MPR__GradWarp__B1_Correction__N3__Scaled_Br_20071229180439589_S29365_I86345.nii', '018_S_0335/MPR____N3__Scaled/2006-05-31_16_04_30.0/S15247\\nADNI_018_S_0335_MR_MPR____N3__Scaled_Br_20070101215011237_S15247_I35014.nii', '018_S_0369/MPR____N3__Scaled/2006-05-11_16_19_12.0/S14343\\nADNI_018_S_0369_MR_MPR____N3__Scaled_Br_20070123180135564_S14343_I37190.nii', '018_S_0406/MPR____N3__Scaled/2006-06-26_15_42_08.0/S15863\\nADNI_018_S_0406_MR_MPR____N3__Scaled_Br_20070101220659180_S15863_I35024.nii', '018_S_0425/MPR____N3__Scaled/2006-06-19_16_00_21.0/S15637\\nADNI_018_S_0425_MR_MPR____N3__Scaled_Br_20090326124223290_S15637_I139891.nii', '018_S_0450/MPR____N3__Scaled/2006-06-23_15_21_55.0/S15825\\nADNI_018_S_0450_MR_MPR____N3__Scaled_Br_20070101221702956_S15825_I35029.nii', '018_S_0633/MPR____N3__Scaled/2006-07-17_11_06_31.0/S16900\\nADNI_018_S_0633_MR_MPR____N3__Scaled_Br_20070101223315779_S16900_I35039.nii', '021_S_0332/MPR__GradWarp__B1_Correction__N3__Scaled/2006-04-19_10_22_09.0/S13439\\nADNI_021_S_0332_MR_MPR__GradWarp__B1_Correction__N3__Scaled_Br_20061217140523536_S13439_I33484.nii', '021_S_0753/MPR__GradWarp__B1_Correction__N3__Scaled/2006-09-11_12_20_40.0/S18712\\nADNI_021_S_0753_MR_MPR__GradWarp__B1_Correction__N3__Scaled_Br_20071115091031185_S18712_I82162.nii', '023_S_0030/MPR__GradWarp__B1_Correction__N3__Scaled/2005-10-26_09_01_07.0/S8908\\nADNI_023_S_0030_MR_MPR__GradWarp__B1_Correction__N3__Scaled_Br_20061204153813354_S8908_I31623.nii', '023_S_0031/MPR-R__GradWarp__B1_Correction__N3__Scaled/2005-10-28_12_35_33.0/S10009\\nADNI_023_S_0031_MR_MPR-R__GradWarp__B1_Correction__N3__Scaled_Br_20070427181838920_S10009_I51934.nii', '023_S_0058/MPR__GradWarp__B1_Correction__N3__Scaled/2005-12-12_12_29_36.0/S10498\\nADNI_023_S_0058_MR_MPR__GradWarp__B1_Correction__N3__Scaled_Br_20061130133702940_S10498_I30968.nii', '023_S_0061/MPR__GradWarp__B1_Correction__N3__Scaled/2005-12-20_15_54_41.0/S10633\\nADNI_023_S_0061_MR_MPR__GradWarp__B1_Correction__N3__Scaled_Br_20061130182551088_S10633_I31107.nii', '023_S_0078/MPR__GradWarp__B1_Correction__N3__Scaled/2006-01-12_12_14_25.0/S10841\\nADNI_023_S_0078_MR_MPR__GradWarp__B1_Correction__N3__Scaled_Br_20070427184351075_S10841_I51981.nii', '023_S_0139/MPR__GradWarp__B1_Correction__N3__Scaled/2006-02-06_12_11_27.0/S11490\\nADNI_023_S_0139_MR_MPR__GradWarp__B1_Correction__N3__Scaled_Br_20061201150450460_S11490_I31313.nii', '023_S_0331/MPR__GradWarp__B1_Correction__N3__Scaled/2006-04-12_12_35_42.0/S13168\\nADNI_023_S_0331_MR_MPR__GradWarp__B1_Correction__N3__Scaled_Br_20070808173645065_S13168_I66018.nii', '023_S_0376/MPR__GradWarp__B1_Correction__N3__Scaled/2006-04-28_12_55_22.0/S13786\\nADNI_023_S_0376_MR_MPR__GradWarp__B1_Correction__N3__Scaled_Br_20061201170258692_S13786_I31392.nii', '023_S_0388/MPR__GradWarp__B1_Correction__N3__Scaled/2006-05-04_15_27_08.0/S14001\\nADNI_023_S_0388_MR_MPR__GradWarp__B1_Correction__N3__Scaled_Br_20061203120855584_S14001_I31446.nii', '023_S_0604/MPR-R__GradWarp__B1_Correction__N3__Scaled/2006-06-20_09_34_04.0/S15677\\nADNI_023_S_0604_MR_MPR-R__GradWarp__B1_Correction__N3__Scaled_Br_20061203124804456_S15677_I31468.nii', '023_S_0613/MPR__GradWarp__B1_Correction__N3__Scaled/2006-07-24_12_34_43.0/S17197\\nADNI_023_S_0613_MR_MPR__GradWarp__B1_Correction__N3__Scaled_Br_20061203130810833_S17197_I31482.nii', '023_S_0625/MPR__GradWarp__B1_Correction__N3__Scaled/2006-07-12_14_23_13.0/S16766\\nADNI_023_S_0625_MR_MPR__GradWarp__B1_Correction__N3__Scaled_Br_20061203133805576_S16766_I31500.nii', '023_S_0855/MPR__GradWarp__B1_Correction__N3__Scaled/2006-09-18_16_01_39.0/S19011\\nADNI_023_S_0855_MR_MPR__GradWarp__B1_Correction__N3__Scaled_Br_20061203140559204_S19011_I31518.nii', '023_S_0916/MPR__GradWarp__B1_Correction__N3__Scaled/2006-09-29_13_26_46.0/S19523\\nADNI_023_S_0916_MR_MPR__GradWarp__B1_Correction__N3__Scaled_Br_20061203143925761_S19523_I31540.nii', '023_S_0926/MPR-R__GradWarp__B1_Correction__N3__Scaled/2006-10-16_12_51_09.0/S20160\\nADNI_023_S_0926_MR_MPR-R__GradWarp__B1_Correction__N3__Scaled_Br_20090312161219095_S20160_I138627.nii', '023_S_0963/MPR-R__GradWarp__B1_Correction__N3__Scaled/2006-10-17_11_37_41.0/S20204\\nADNI_023_S_0963_MR_MPR-R__GradWarp__B1_Correction__N3__Scaled_Br_20080208105725529_S20204_I90026.nii', '023_S_1046/MPR__GradWarp__B1_Correction__N3__Scaled/2006-11-15_14_35_52.0/S22606\\nADNI_023_S_1046_MR_MPR__GradWarp__B1_Correction__N3__Scaled_Br_20070427201702633_S22606_I52107.nii', '023_S_1104/MPR__GradWarp__B1_Correction__N3__Scaled/2006-12-05_09_06_08.0/S23433\\nADNI_023_S_1104_MR_MPR__GradWarp__B1_Correction__N3__Scaled_Br_20070427202743810_S23433_I52120.nii', '023_S_1126/MPR-R__GradWarp__B1_Correction__N3__Scaled/2006-12-13_10_50_44.0/S23968\\nADNI_023_S_1126_MR_MPR-R__GradWarp__B1_Correction__N3__Scaled_Br_20070828111153037_S23968_I70687.nii', '023_S_1190/MPR__GradWarp__B1_Correction__N3__Scaled/2007-01-17_09_13_56.0/S25153\\nADNI_023_S_1190_MR_MPR__GradWarp__B1_Correction__N3__Scaled_Br_20070427203443094_S25153_I52129.nii', '023_S_1247/MPR__GradWarp__B1_Correction__N3__Scaled/2007-02-21_14_10_43.0/S26861\\nADNI_023_S_1247_MR_MPR__GradWarp__B1_Correction__N3__Scaled_Br_20070427204139431_S26861_I52138.nii', '023_S_1262/MPR-R__GradWarp__B1_Correction__N3__Scaled/2007-02-28_09_22_42.0/S27243\\nADNI_023_S_1262_MR_MPR-R__GradWarp__B1_Correction__N3__Scaled_Br_20070805140940607_S27243_I64862.nii', '023_S_1289/MPR__GradWarp__B1_Correction__N3__Scaled/2007-02-20_08_51_51.0/S26851\\nADNI_023_S_1289_MR_MPR__GradWarp__B1_Correction__N3__Scaled_Br_20070322183035806_S26851_I46426.nii', '027_S_0307/MPR__GradWarp__B1_Correction__N3__Scaled/2006-05-11_16_31_47.0/S14336\\nADNI_027_S_0307_MR_MPR__GradWarp__B1_Correction__N3__Scaled_Br_20061222185350351_S14336_I34168.nii', '027_S_0403/MPR-R__GradWarp__B1_Correction__N3__Scaled/2006-05-08_10_29_51.0/S14179\\nADNI_027_S_0403_MR_MPR-R__GradWarp__B1_Correction__N3__Scaled_Br_20061222192740789_S14179_I34190.nii', '027_S_0404/MPR__GradWarp__B1_Correction__N3__Scaled/2006-05-16_10_24_38.0/S14494\\nADNI_027_S_0404_MR_MPR__GradWarp__B1_Correction__N3__Scaled_Br_20061222193516770_S14494_I34195.nii', '027_S_0417/MPR__GradWarp__B1_Correction__N3__Scaled/2006-05-31_11_31_53.0/S15050\\nADNI_027_S_0417_MR_MPR__GradWarp__B1_Correction__N3__Scaled_Br_20061222200312461_S15050_I34213.nii', '027_S_0835/MPR__GradWarp__B1_Correction__N3__Scaled/2006-09-28_09_23_19.0/S19496\\nADNI_027_S_0835_MR_MPR__GradWarp__B1_Correction__N3__Scaled_Br_20070109231952406_S19496_I35653.nii', '027_S_1081/MPR__GradWarp__B1_Correction__N3__Scaled/2007-02-08_09_33_53.0/S26054\\nADNI_027_S_1081_MR_MPR__GradWarp__B1_Correction__N3__Scaled_Br_20070327153912557_S26054_I47177.nii', '027_S_1082/MPR__GradWarp__B1_Correction__N3__Scaled/2006-12-13_14_18_44.0/S23987\\nADNI_027_S_1082_MR_MPR__GradWarp__B1_Correction__N3__Scaled_Br_20070327155420107_S23987_I47186.nii', '027_S_1277/MPR__GradWarp__B1_Correction__N3__Scaled/2007-03-01_10_10_40.0/S27297\\nADNI_027_S_1277_MR_MPR__GradWarp__B1_Correction__N3__Scaled_Br_20070327171106769_S27297_I47237.nii', '027_S_1385/MPR__GradWarp__B1_Correction__N3__Scaled/2007-03-26_16_27_30.0/S28972\\nADNI_027_S_1385_MR_MPR__GradWarp__B1_Correction__N3__Scaled_Br_20070807092416718_S28972_I65374.nii', '027_S_1387/MPR__GradWarp__B1_Correction__N3__Scaled/2007-03-19_10_04_01.0/S28276\\nADNI_027_S_1387_MR_MPR__GradWarp__B1_Correction__N3__Scaled_Br_20070402182606620_S28276_I47757.nii', '031_S_0568/MPR__GradWarp__N3__Scaled/2006-06-09_13_05_48.0/S15430\\nADNI_031_S_0568_MR_MPR__GradWarp__N3__Scaled_Br_20081022115335007_S15430_I122678.nii', '031_S_0830/MPR-R__GradWarp__B1_Correction__N3__Scaled/2006-09-21_12_40_35.0/S19249\\nADNI_031_S_0830_MR_MPR-R__GradWarp__B1_Correction__N3__Scaled_Br_20090313093246631_S19249_I138792.nii', '031_S_1066/MPR__GradWarp__B1_Correction__N3__Scaled/2006-12-04_12_03_05.0/S23507\\nADNI_031_S_1066_MR_MPR__GradWarp__B1_Correction__N3__Scaled_Br_20080220103435137_S23507_I90916.nii', '031_S_1209/MPR__GradWarp__B1_Correction__N3__Scaled/2007-01-31_14_55_45.0/S25948\\nADNI_031_S_1209_MR_MPR__GradWarp__B1_Correction__N3__Scaled_Br_20080220104120930_S25948_I90925.nii', '032_S_0187/MPR____N3__Scaled/2006-03-14_10_43_34.0/S12179\\nADNI_032_S_0187_MR_MPR____N3__Scaled_Br_20070117234511672_S12179_I36440.nii', '032_S_0479/MPR____N3__Scaled/2006-06-07_10_03_00.0/S15305\\nADNI_032_S_0479_MR_MPR____N3__Scaled_Br_20070302143137157_S15305_I42206.nii', '032_S_0677/MPR__GradWarp__B1_Correction__N3__Scaled/2006-10-09_14_17_34.0/S19889\\nADNI_032_S_0677_MR_MPR__GradWarp__B1_Correction__N3__Scaled_Br_20080220105435721_S19889_I90942.nii', '032_S_1101/MPR__GradWarp__B1_Correction__N3__Scaled/2007-01-25_11_00_45.0/S25579\\nADNI_032_S_1101_MR_MPR__GradWarp__B1_Correction__N3__Scaled_Br_20080220110810635_S25579_I90976.nii', '032_S_1169/MPR-R__GradWarp__B1_Correction__N3__Scaled/2007-01-24_09_27_14.0/S25563\\nADNI_032_S_1169_MR_MPR-R__GradWarp__B1_Correction__N3__Scaled_Br_20080220112005945_S25563_I90989.nii', '037_S_0303/MPR__GradWarp__B1_Correction__N3__Scaled/2006-05-03_11_41_39.0/S13916\\nADNI_037_S_0303_MR_MPR__GradWarp__B1_Correction__N3__Scaled_Br_20070802181222889_S13916_I64116.nii', '037_S_0501/MPR-R__GradWarp__B1_Correction__N3__Scaled/2006-06-23_11_03_42.0/S15805\\nADNI_037_S_0501_MR_MPR-R__GradWarp__B1_Correction__N3__Scaled_Br_20071030163828841_S15805_I79784.nii', '037_S_1225/MPR-R__GradWarp__B1_Correction__N3__Scaled/2007-02-09_13_06_40.0/S26187\\nADNI_037_S_1225_MR_MPR-R__GradWarp__B1_Correction__N3__Scaled_Br_20071031135936030_S26187_I79943.nii', '051_S_1072/MPR-R__GradWarp__B1_Correction__N3__Scaled/2007-01-29_11_13_30.0/S25625\\nADNI_051_S_1072_MR_MPR-R__GradWarp__B1_Correction__N3__Scaled_Br_20070807164626060_S25625_I65662.nii', '051_S_1123/MPR__GradWarp__B1_Correction__N3__Scaled/2007-02-06_12_14_26.0/S25973\\nADNI_051_S_1123_MR_MPR__GradWarp__B1_Correction__N3__Scaled_Br_20070628171146730_S25973_I58054.nii', '051_S_1131/MPR__GradWarp__B1_Correction__N3__Scaled/2007-01-18_11_49_06.0/S25285\\nADNI_051_S_1131_MR_MPR__GradWarp__B1_Correction__N3__Scaled_Br_20070805152335702_S25285_I64929.nii', '051_S_1331/MPR-R__GradWarp__B1_Correction__N3__Scaled/2007-04-26_09_35_03.0/S30826\\nADNI_051_S_1331_MR_MPR-R__GradWarp__B1_Correction__N3__Scaled_Br_20071118111838279_S30826_I82509.nii', '051_S_1338/MPR-R__GradWarp__B1_Correction__N3__Scaled/2007-04-26_10_29_13.0/S30842\\nADNI_051_S_1338_MR_MPR-R__GradWarp__B1_Correction__N3__Scaled_Br_20071118112525098_S30842_I82518.nii', '052_S_1250/MPR__GradWarp__B1_Correction__N3__Scaled/2007-02-28_10_47_38.0/S27259\\nADNI_052_S_1250_MR_MPR__GradWarp__B1_Correction__N3__Scaled_Br_20070727110257945_S27259_I62261.nii', '052_S_1251/MPR__GradWarp__B1_Correction__N3__Scaled/2007-03-09_11_29_47.0/S27758\\nADNI_052_S_1251_MR_MPR__GradWarp__B1_Correction__N3__Scaled_Br_20070727111631299_S27758_I62272.nii', '053_S_0507/MPR____N3__Scaled/2006-06-06_09_19_06.0/S15256\\nADNI_053_S_0507_MR_MPR____N3__Scaled_Br_20070927074706802_S15256_I75459.nii', '067_S_0290/MPR-R__GradWarp__B1_Correction__N3__Scaled/2006-06-01_09_36_34.0/S15130\\nADNI_067_S_0290_MR_MPR-R__GradWarp__B1_Correction__N3__Scaled_Br_20080131140522955_S15130_I89124.nii', '067_S_0607/MPR__GradWarp__B1_Correction__N3__Scaled/2006-08-18_10_24_25.0/S18034\\nADNI_067_S_0607_MR_MPR__GradWarp__B1_Correction__N3__Scaled_Br_20061229190754863_S18034_I34866.nii', '067_S_0607/MPR__GradWarp__B1_Correction__N3__Scaled/2006-08-18_10_24_25.0/S18034\\nADNI_067_S_0607_MR_MPR__GradWarp__B1_Correction__N3__Scaled_Br_20080131140433901_S18034_I89123.nii', '067_S_0812/MPR-R__GradWarp__B1_Correction__N3__Scaled/2006-10-25_11_40_49.0/S21115\\nADNI_067_S_0812_MR_MPR-R__GradWarp__B1_Correction__N3__Scaled_Br_20080131140616857_S21115_I89125.nii', '067_S_0828/MPR__GradWarp__B1_Correction__N3__Scaled/2006-11-09_11_27_58.0/S22328\\nADNI_067_S_0828_MR_MPR__GradWarp__B1_Correction__N3__Scaled_Br_20071229185808216_S22328_I86420.nii', '067_S_1185/MPR__GradWarp__B1_Correction__N3__Scaled/2007-01-22_13_58_45.0/S25394\\nADNI_067_S_1185_MR_MPR__GradWarp__B1_Correction__N3__Scaled_Br_20071229190444462_S25394_I86429.nii', '067_S_1253/MPR__GradWarp__B1_Correction__N3__Scaled/2007-03-30_07_22_36.0/S29241\\nADNI_067_S_1253_MR_MPR__GradWarp__B1_Correction__N3__Scaled_Br_20080111161437659_S29241_I87150.nii', '068_S_0442/MPR____N3__Scaled/2006-06-06_12_19_10.0/S15251\\nADNI_068_S_0442_MR_MPR____N3__Scaled_Br_20070120015413278_S15251_I37024.nii', '068_S_0476/MPR____N3__Scaled/2006-07-12_08_18_35.0/S16883\\nADNI_068_S_0476_MR_MPR____N3__Scaled_Br_20070120021040408_S16883_I37034.nii', '068_S_0478/MPR-R____N3__Scaled/2006-07-12_10_20_53.0/S16782\\nADNI_068_S_0478_MR_MPR-R____N3__Scaled_Br_20070120022202561_S16782_I37041.nii', '068_S_1075/MPR____N3__Scaled/2007-03-02_12_04_14.0/S28359\\nADNI_068_S_1075_MR_MPR____N3__Scaled_Br_20071118113619430_S28359_I82532.nii', '068_S_1191/MPR____N3__Scaled/2007-02-06_16_53_21.0/S26021\\nADNI_068_S_1191_MR_MPR____N3__Scaled_Br_20070828133635011_S26021_I70783.nii', '082_S_0304/MPR__GradWarp__B1_Correction__N3__Scaled/2006-04-06_11_10_42.0/S13009\\nADNI_082_S_0304_MR_MPR__GradWarp__B1_Correction__N3__Scaled_Br_20071006122114170_S13009_I77069.nii', '082_S_0469/MPR__GradWarp__B1_Correction__N3__Scaled/2006-07-17_13_37_53.0/S16916\\nADNI_082_S_0469_MR_MPR__GradWarp__B1_Correction__N3__Scaled_Br_20070213175009057_S16916_I39749.nii', '082_S_0640/MPR-R__GradWarp__B1_Correction__N3__Scaled/2006-07-25_12_54_04.0/S17278\\nADNI_082_S_0640_MR_MPR-R__GradWarp__B1_Correction__N3__Scaled_Br_20070213181356920_S17278_I39772.nii', '082_S_0928/MPR__GradWarp__B1_Correction__N3__Scaled/2006-10-16_12_54_09.0/S50770\\nADNI_082_S_0928_MR_MPR__GradWarp__B1_Correction__N3__Scaled_Br_20080613154501166_S50770_I109533.nii', '082_S_1256/MPR__GradWarp__B1_Correction__N3__Scaled/2007-02-23_11_15_35.0/S41769\\nADNI_082_S_1256_MR_MPR__GradWarp__B1_Correction__N3__Scaled_Br_20071106102309794_S41769_I80880.nii', '094_S_1241/MPR__GradWarp__B1_Correction__N3__Scaled/2007-02-22_10_12_34.0/S27008\\nADNI_094_S_1241_MR_MPR__GradWarp__B1_Correction__N3__Scaled_Br_20070807102309850_S27008_I65414.nii', '094_S_1267/MPR__GradWarp__B1_Correction__N3__Scaled/2007-03-22_09_25_40.0/S28796\\nADNI_094_S_1267_MR_MPR__GradWarp__B1_Correction__N3__Scaled_Br_20070927081738180_S28796_I75503.nii', '094_S_1293/MPR__GradWarp__B1_Correction__N3__Scaled/2007-03-19_09_31_30.0/S28405\\nADNI_094_S_1293_MR_MPR__GradWarp__B1_Correction__N3__Scaled_Br_20080117114821860_S28405_I87748.nii', '100_S_0015/MPR-R____N3__Scaled/2005-10-31_14_50_12.0/S8833\\nADNI_100_S_0015_MR_MPR-R____N3__Scaled_Br_20061213152852376_S8833_I33046.nii', '100_S_0190/MPR____N3__Scaled/2006-05-22_11_34_17.0/S15011\\nADNI_100_S_0190_MR_MPR____N3__Scaled_Br_20061213165243410_S15011_I33114.nii', '100_S_1286/MPR____N3__Scaled/2007-03-07_12_43_38.0/S28476\\nADNI_100_S_1286_MR_MPR____N3__Scaled_Br_20071119085444964_S28476_I82571.nii', '116_S_0382/MPR__GradWarp__B1_Correction__N3__Scaled/2006-06-13_10_21_56.0/S15735\\nADNI_116_S_0382_MR_MPR__GradWarp__B1_Correction__N3__Scaled_Br_20070508153859326_S15735_I53802.nii', '116_S_0392/MPR-R__GradWarp__B1_Correction__N3__Scaled/2006-06-26_11_01_57.0/S16454\\nADNI_116_S_0392_MR_MPR-R__GradWarp__B1_Correction__N3__Scaled_Br_20070508154925856_S16454_I53818.nii', '116_S_0487/MPR-R__GradWarp__B1_Correction__N3__Scaled/2006-08-10_11_59_16.0/S17729\\nADNI_116_S_0487_MR_MPR-R__GradWarp__B1_Correction__N3__Scaled_Br_20070712180404741_S17729_I59677.nii', '116_S_0649/MPR__GradWarp__B1_Correction__N3__Scaled/2006-09-08_11_21_50.0/S18687\\nADNI_116_S_0649_MR_MPR__GradWarp__B1_Correction__N3__Scaled_Br_20070731185839496_S18687_I63508.nii', '116_S_0752/MPR__GradWarp__B1_Correction__N3__Scaled/2006-09-08_10_23_11.0/S18680\\nADNI_116_S_0752_MR_MPR__GradWarp__B1_Correction__N3__Scaled_Br_20070731190648323_S18680_I63517.nii', '116_S_1083/MPR__GradWarp__B1_Correction__N3__Scaled/2006-12-21_15_09_30.0/S24453\\nADNI_116_S_1083_MR_MPR__GradWarp__B1_Correction__N3__Scaled_Br_20070812150855735_S24453_I67248.nii', '116_S_1232/MPR-R__GradWarp__B1_Correction__N3__Scaled/2007-02-23_11_32_38.0/S27150\\nADNI_116_S_1232_MR_MPR-R__GradWarp__B1_Correction__N3__Scaled_Br_20070508160617696_S27150_I53836.nii', '116_S_1249/MPR-R__GradWarp__B1_Correction__N3__Scaled/2007-03-01_11_05_48.0/S27351\\nADNI_116_S_1249_MR_MPR-R__GradWarp__B1_Correction__N3__Scaled_Br_20070508161406653_S27351_I53845.nii', '126_S_0405/MPR-R__GradWarp__B1_Correction__N3__Scaled/2006-06-14_13_43_44.0/S15644\\nADNI_126_S_0405_MR_MPR-R__GradWarp__B1_Correction__N3__Scaled_Br_20070209175716599_S15644_I38808.nii', '126_S_0605/MPR__GradWarp__B1_Correction__N3__Scaled/2006-06-29_10_05_51.0/S15942\\nADNI_126_S_0605_MR_MPR__GradWarp__B1_Correction__N3__Scaled_Br_20070209185049979_S15942_I38878.nii', '126_S_0606/MPR__GradWarp__B1_Correction__N3__Scaled/2006-08-14_07_32_37.0/S17816\\nADNI_126_S_0606_MR_MPR__GradWarp__B1_Correction__N3__Scaled_Br_20070209190556936_S17816_I38887.nii', '126_S_1340/MPR__GradWarp__B1_Correction__N3__Scaled/2007-04-02_13_30_05.0/S36996\\nADNI_126_S_1340_MR_MPR__GradWarp__B1_Correction__N3__Scaled_Br_20071129170619228_S36996_I83789.nii', '127_S_0260/MPR__GradWarp__B1_Correction__N3__Scaled/2006-05-01_13_12_05.0/S13858\\nADNI_127_S_0260_MR_MPR__GradWarp__B1_Correction__N3__Scaled_Br_20061227143400735_S13858_I34371.nii', '127_S_0393/MPR__GradWarp__B1_Correction__N3__Scaled/2006-05-24_14_06_36.0/S14896\\nADNI_127_S_0393_MR_MPR__GradWarp__B1_Correction__N3__Scaled_Br_20070209172507581_S14896_I38790.nii', '127_S_0397/MPR__GradWarp__B1_Correction__N3__Scaled/2006-06-06_12_07_37.0/S15283\\nADNI_127_S_0397_MR_MPR__GradWarp__B1_Correction__N3__Scaled_Br_20061228110515922_S15283_I34416.nii', '127_S_0622/MPR__GradWarp__B1_Correction__N3__Scaled/2006-06-29_13_01_25.0/S15986\\nADNI_127_S_0622_MR_MPR__GradWarp__B1_Correction__N3__Scaled_Br_20070922104550551_S15986_I74496.nii', '127_S_0844/MPR__GradWarp__B1_Correction__N3__Scaled/2006-11-09_11_56_09.0/S22284\\nADNI_127_S_0844_MR_MPR__GradWarp__B1_Correction__N3__Scaled_Br_20071127181826334_S22284_I83521.nii', '128_S_1088/MPR__GradWarp__B1_Correction__N3__Scaled/2007-01-18_15_40_48.0/S25249\\nADNI_128_S_1088_MR_MPR__GradWarp__B1_Correction__N3__Scaled_Br_20080215173247758_S25249_I90614.nii', '128_S_1148/MPR__GradWarp__B1_Correction__N3__Scaled/2007-01-16_12_59_59.0/S25096\\nADNI_128_S_1148_MR_MPR__GradWarp__B1_Correction__N3__Scaled_Br_20070819185116253_S25096_I69118.nii', '128_S_1242/MPR__GradWarp__B1_Correction__N3__Scaled/2007-02-14_13_50_25.0/S26536\\nADNI_128_S_1242_MR_MPR__GradWarp__B1_Correction__N3__Scaled_Br_20080229185626345_S26536_I94658.nii', '130_S_0423/MPR-R____N3__Scaled/2006-07-06_10_53_39.0/S16421\\nADNI_130_S_0423_MR_MPR-R____N3__Scaled_Br_20070210195537624_S16421_I39104.nii', '130_S_0449/MPR-R____N3__Scaled/2006-08-16_10_41_17.0/S18012\\nADNI_130_S_0449_MR_MPR-R____N3__Scaled_Br_20071110121628197_S18012_I81434.nii', '130_S_0505/MPR____N3__Scaled/2006-10-18_09_43_32.0/S20396\\nADNI_130_S_0505_MR_MPR____N3__Scaled_Br_20070210222802960_S20396_I39197.nii', '130_S_0886/MPR-R____N3__Scaled/2006-10-16_08_49_47.0/S20151\\nADNI_130_S_0886_MR_MPR-R____N3__Scaled_Br_20070211002657559_S20151_I39288.nii', '130_S_0956/MPR____N3__Scaled/2006-11-06_09_40_12.0/S22511\\nADNI_130_S_0956_MR_MPR____N3__Scaled_Br_20070210223200198_S22511_I39200.nii', '130_S_0969/MPR____N3__Scaled/2006-11-06_08_27_29.0/S22655\\nADNI_130_S_0969_MR_MPR____N3__Scaled_Br_20070210223626600_S22655_I39203.nii', '130_S_1337/MPR____N3__Scaled/2007-03-22_10_29_06.0/S28790\\nADNI_130_S_1337_MR_MPR____N3__Scaled_Br_20070807124026176_S28790_I65520.nii', '136_S_0086/MPR____N3__Scaled/2006-05-08_10_55_23.0/S14069\\nADNI_136_S_0086_MR_MPR____N3__Scaled_Br_20070215172221943_S14069_I40172.nii', '136_S_0184/MPR____N3__Scaled/2006-03-27_12_32_31.0/S12474\\nADNI_136_S_0184_MR_MPR____N3__Scaled_Br_20070215174801158_S12474_I40191.nii', '136_S_0194/MPR____N3__Scaled/2006-04-24_10_52_24.0/S13723\\nADNI_136_S_0194_MR_MPR____N3__Scaled_Br_20070215184513364_S13723_I40248.nii', '136_S_0195/MPR____N3__Scaled/2006-04-04_10_54_57.0/S12748\\nADNI_136_S_0195_MR_MPR____N3__Scaled_Br_20070215185520914_S12748_I40254.nii', '136_S_0196/MPR____N3__Scaled/2006-05-01_11_18_56.0/S13831\\nADNI_136_S_0196_MR_MPR____N3__Scaled_Br_20070215192140032_S13831_I40269.nii', '136_S_0299/MPR-R____N3__Scaled/2006-05-12_14_01_39.0/S14403\\nADNI_136_S_0299_MR_MPR-R____N3__Scaled_Br_20070215204338235_S14403_I40323.nii', '136_S_0300/MPR-R____N3__Scaled/2006-06-07_09_09_23.0/S15349\\nADNI_136_S_0300_MR_MPR-R____N3__Scaled_Br_20070215211009479_S15349_I40352.nii', '136_S_0426/MPR____N3__Scaled/2006-05-30_10_46_09.0/S15017\\nADNI_136_S_0426_MR_MPR____N3__Scaled_Br_20070215213410384_S15017_I40378.nii', '136_S_0429/MPR____N3__Scaled/2006-06-27_10_25_33.0/S15882\\nADNI_136_S_0429_MR_MPR____N3__Scaled_Br_20070215221039819_S15882_I40392.nii', '136_S_0579/MPR-R____N3__Scaled/2006-07-10_11_45_57.0/S16545\\nADNI_136_S_0579_MR_MPR-R____N3__Scaled_Br_20070215222116139_S16545_I40404.nii', '136_S_1227/MPR____N3__Scaled/2007-02-21_13_12_42.0/S26837\\nADNI_136_S_1227_MR_MPR____N3__Scaled_Br_20070810000731580_S26837_I66824.nii']\n"
     ]
    }
   ],
   "source": [
    "print(L)"
   ]
  },
  {
   "cell_type": "code",
   "execution_count": null,
   "metadata": {},
   "outputs": [],
   "source": []
  }
 ],
 "metadata": {
  "kernelspec": {
   "display_name": "Python 3",
   "language": "python",
   "name": "python3"
  },
  "language_info": {
   "codemirror_mode": {
    "name": "ipython",
    "version": 3
   },
   "file_extension": ".py",
   "mimetype": "text/x-python",
   "name": "python",
   "nbconvert_exporter": "python",
   "pygments_lexer": "ipython3",
   "version": "3.7.6"
  }
 },
 "nbformat": 4,
 "nbformat_minor": 2
}
